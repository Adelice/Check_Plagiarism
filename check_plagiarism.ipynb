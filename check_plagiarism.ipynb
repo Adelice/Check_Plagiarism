{
  "nbformat": 4,
  "nbformat_minor": 0,
  "metadata": {
    "colab": {
      "provenance": [],
      "authorship_tag": "ABX9TyN8uYTdQzhSQK3zAeM/BNX3",
      "include_colab_link": true
    },
    "kernelspec": {
      "name": "python3",
      "display_name": "Python 3"
    },
    "language_info": {
      "name": "python"
    }
  },
  "cells": [
    {
      "cell_type": "markdown",
      "metadata": {
        "id": "view-in-github",
        "colab_type": "text"
      },
      "source": [
        "<a href=\"https://colab.research.google.com/github/Adelice/Check_Plagiarism/blob/main/check_plagiarism.ipynb\" target=\"_parent\"><img src=\"https://colab.research.google.com/assets/colab-badge.svg\" alt=\"Open In Colab\"/></a>"
      ]
    },
    {
      "cell_type": "code",
      "execution_count": 2,
      "metadata": {
        "colab": {
          "base_uri": "https://localhost:8080/"
        },
        "id": "S1lhEPdJEfQQ",
        "outputId": "f37e63c8-bc7b-4a53-8d53-23b5b32a188c"
      },
      "outputs": [
        {
          "output_type": "stream",
          "name": "stdout",
          "text": [
            "Jaccard Similarity: 63.64%\n",
            "Common words: {'the', 'systematic', 'past', 'of', 'is', 'study', 'History'}\n"
          ]
        }
      ],
      "source": [
        "# Example text inputs\n",
        "file1 = \"History is the systematic study of the past\"\n",
        "file2 = \"History is the systematic study of the past this is just for practice\"\n",
        "\n",
        "def jaccard_similarity(text1, text2):\n",
        "    \"\"\"\n",
        "    Calculates the Jaccard Similarity between two strings and\n",
        "    returns both the similarity score and the words they have in common.\n",
        "    \"\"\"\n",
        "    # Split the texts into individual words and store them as sets\n",
        "    set1 = set(text1.split())\n",
        "    set2 = set(text2.split())\n",
        "\n",
        "    # Find the intersection (common words) and the union (all unique words)\n",
        "    intersection = set1.intersection(set2)\n",
        "    union = set1.union(set2)\n",
        "\n",
        "    # Calculate the Jaccard Similarity = (size of intersection) / (size of union)\n",
        "    if len(union) == 0:\n",
        "        similarity = 0\n",
        "    else:\n",
        "        similarity = len(intersection) / len(union)\n",
        "\n",
        "    # Return both the similarity score and the intersecting words\n",
        "    return similarity, intersection\n",
        "\n",
        "# Call the function with our two text strings\n",
        "similarity_score, common_words = jaccard_similarity(file1, file2)\n",
        "\n",
        "# Print out the results\n",
        "print(f\"Jaccard Similarity: {similarity_score * 100:.2f}%\")\n",
        "print(\"Common words:\", common_words)\n"
      ]
    }
  ]
}